{
 "cells": [
  {
   "cell_type": "code",
   "execution_count": 15,
   "metadata": {},
   "outputs": [],
   "source": [
    "#stl\n",
    "import os\n",
    "import warnings\n",
    "from tqdm import tqdm\n",
    "\n",
    "warnings.filterwarnings(\"ignore\")\n",
    "\n",
    "#data handling\n",
    "import pandas as pd\n",
    "import numpy as np\n",
    "\n",
    "#neo4j\n",
    "import neo4j\n",
    "from neo4j import GraphDatabase\n",
    "import networkx"
   ]
  },
  {
   "cell_type": "code",
   "execution_count": 16,
   "metadata": {},
   "outputs": [
    {
     "data": {
      "text/plain": [
       "'Neo4j/4.4.10'"
      ]
     },
     "execution_count": 16,
     "metadata": {},
     "output_type": "execute_result"
    }
   ],
   "source": [
    "driver = GraphDatabase.driver(uri = \"bolt://localhost:7687\", auth = (\"neo4j\",\"caseolap\"))\n",
    "driver.verify_connectivity()"
   ]
  },
  {
   "cell_type": "code",
   "execution_count": 23,
   "metadata": {},
   "outputs": [],
   "source": [
    "\n",
    "UNIQUE_CONSTAINT_1 = \"CREATE CONSTRAINT ON (d:CVD) ASSERT d.name IS UNIQUE\"\n",
    "UNIQUE_CONSTAINT_2 = \"CREATE CONSTRAINT ON (m:MeSH_Tree_Disease) ASSERT m.name IS UNIQUE\"\n",
    "UNIQUE_CONSTAINT_3 = \"CREATE CONSTRAINT ON (p:Protein) ASSERT p.name IS UNIQUE\"\n",
    "UNIQUE_CONSTAINT_4 = \"CREATE CONSTRAINT ON (r:Reactome_Pathway) ASSERT r.name  IS UNIQUE\"\n",
    "\n",
    "info = driver.session().run(UNIQUE_CONSTAINT_1)\n",
    "info = driver.session().run(UNIQUE_CONSTAINT_2)\n",
    "info = driver.session().run(UNIQUE_CONSTAINT_3)\n",
    "info = driver.session().run(UNIQUE_CONSTAINT_4)\n"
   ]
  },
  {
   "cell_type": "code",
   "execution_count": 24,
   "metadata": {},
   "outputs": [
    {
     "name": "stdout",
     "output_type": "stream",
     "text": [
      "kg_edges_with_predictions.csv merged_node_list.tsv\n"
     ]
    }
   ],
   "source": [
    "!ls ../input_data"
   ]
  },
  {
   "cell_type": "code",
   "execution_count": 25,
   "metadata": {},
   "outputs": [
    {
     "data": {
      "text/html": [
       "<div>\n",
       "<style scoped>\n",
       "    .dataframe tbody tr th:only-of-type {\n",
       "        vertical-align: middle;\n",
       "    }\n",
       "\n",
       "    .dataframe tbody tr th {\n",
       "        vertical-align: top;\n",
       "    }\n",
       "\n",
       "    .dataframe thead th {\n",
       "        text-align: right;\n",
       "    }\n",
       "</style>\n",
       "<table border=\"1\" class=\"dataframe\">\n",
       "  <thead>\n",
       "    <tr style=\"text-align: right;\">\n",
       "      <th></th>\n",
       "      <th>head</th>\n",
       "      <th>relation</th>\n",
       "      <th>tail</th>\n",
       "      <th>weight</th>\n",
       "    </tr>\n",
       "  </thead>\n",
       "  <tbody>\n",
       "    <tr>\n",
       "      <th>0</th>\n",
       "      <td>MeSH_Tree_Disease:MeSH_Tree_Disease:C01.069</td>\n",
       "      <td>MeSH_hierarchy</td>\n",
       "      <td>MeSH_Tree_Disease:MeSH_Tree_Disease:C01</td>\n",
       "      <td>1.000000</td>\n",
       "    </tr>\n",
       "    <tr>\n",
       "      <th>1</th>\n",
       "      <td>MeSH_Tree_Disease:MeSH_Tree_Disease:C01.100</td>\n",
       "      <td>MeSH_hierarchy</td>\n",
       "      <td>MeSH_Tree_Disease:MeSH_Tree_Disease:C01</td>\n",
       "      <td>1.000000</td>\n",
       "    </tr>\n",
       "    <tr>\n",
       "      <th>2</th>\n",
       "      <td>MeSH_Tree_Disease:MeSH_Tree_Disease:C01.100.500</td>\n",
       "      <td>MeSH_hierarchy</td>\n",
       "      <td>MeSH_Tree_Disease:MeSH_Tree_Disease:C01.100</td>\n",
       "      <td>1.000000</td>\n",
       "    </tr>\n",
       "    <tr>\n",
       "      <th>3</th>\n",
       "      <td>MeSH_Tree_Disease:MeSH_Tree_Disease:C01.125</td>\n",
       "      <td>MeSH_hierarchy</td>\n",
       "      <td>MeSH_Tree_Disease:MeSH_Tree_Disease:C01</td>\n",
       "      <td>1.000000</td>\n",
       "    </tr>\n",
       "    <tr>\n",
       "      <th>4</th>\n",
       "      <td>MeSH_Tree_Disease:MeSH_Tree_Disease:C01.150</td>\n",
       "      <td>MeSH_hierarchy</td>\n",
       "      <td>MeSH_Tree_Disease:MeSH_Tree_Disease:C01</td>\n",
       "      <td>1.000000</td>\n",
       "    </tr>\n",
       "    <tr>\n",
       "      <th>...</th>\n",
       "      <td>...</td>\n",
       "      <td>...</td>\n",
       "      <td>...</td>\n",
       "      <td>...</td>\n",
       "    </tr>\n",
       "    <tr>\n",
       "      <th>88008</th>\n",
       "      <td>VD</td>\n",
       "      <td>predicted_association</td>\n",
       "      <td>P36873</td>\n",
       "      <td>0.971166</td>\n",
       "    </tr>\n",
       "    <tr>\n",
       "      <th>88009</th>\n",
       "      <td>VD</td>\n",
       "      <td>predicted_association</td>\n",
       "      <td>P19634</td>\n",
       "      <td>0.956168</td>\n",
       "    </tr>\n",
       "    <tr>\n",
       "      <th>88010</th>\n",
       "      <td>VD</td>\n",
       "      <td>predicted_association</td>\n",
       "      <td>P27338</td>\n",
       "      <td>0.928993</td>\n",
       "    </tr>\n",
       "    <tr>\n",
       "      <th>88011</th>\n",
       "      <td>VD</td>\n",
       "      <td>predicted_association</td>\n",
       "      <td>Q13268</td>\n",
       "      <td>0.964434</td>\n",
       "    </tr>\n",
       "    <tr>\n",
       "      <th>88012</th>\n",
       "      <td>VD</td>\n",
       "      <td>predicted_association</td>\n",
       "      <td>Q5VT66</td>\n",
       "      <td>0.917558</td>\n",
       "    </tr>\n",
       "  </tbody>\n",
       "</table>\n",
       "<p>88013 rows × 4 columns</p>\n",
       "</div>"
      ],
      "text/plain": [
       "                                                  head               relation  \\\n",
       "0          MeSH_Tree_Disease:MeSH_Tree_Disease:C01.069         MeSH_hierarchy   \n",
       "1          MeSH_Tree_Disease:MeSH_Tree_Disease:C01.100         MeSH_hierarchy   \n",
       "2      MeSH_Tree_Disease:MeSH_Tree_Disease:C01.100.500         MeSH_hierarchy   \n",
       "3          MeSH_Tree_Disease:MeSH_Tree_Disease:C01.125         MeSH_hierarchy   \n",
       "4          MeSH_Tree_Disease:MeSH_Tree_Disease:C01.150         MeSH_hierarchy   \n",
       "...                                                ...                    ...   \n",
       "88008                                               VD  predicted_association   \n",
       "88009                                               VD  predicted_association   \n",
       "88010                                               VD  predicted_association   \n",
       "88011                                               VD  predicted_association   \n",
       "88012                                               VD  predicted_association   \n",
       "\n",
       "                                              tail    weight  \n",
       "0          MeSH_Tree_Disease:MeSH_Tree_Disease:C01  1.000000  \n",
       "1          MeSH_Tree_Disease:MeSH_Tree_Disease:C01  1.000000  \n",
       "2      MeSH_Tree_Disease:MeSH_Tree_Disease:C01.100  1.000000  \n",
       "3          MeSH_Tree_Disease:MeSH_Tree_Disease:C01  1.000000  \n",
       "4          MeSH_Tree_Disease:MeSH_Tree_Disease:C01  1.000000  \n",
       "...                                            ...       ...  \n",
       "88008                                       P36873  0.971166  \n",
       "88009                                       P19634  0.956168  \n",
       "88010                                       P27338  0.928993  \n",
       "88011                                       Q13268  0.964434  \n",
       "88012                                       Q5VT66  0.917558  \n",
       "\n",
       "[88013 rows x 4 columns]"
      ]
     },
     "execution_count": 25,
     "metadata": {},
     "output_type": "execute_result"
    }
   ],
   "source": [
    "kg_edges = pd.read_csv(\"../input_data/kg_edges_with_predictions.csv\")\n",
    "kg_edges"
   ]
  },
  {
   "cell_type": "code",
   "execution_count": 26,
   "metadata": {},
   "outputs": [
    {
     "data": {
      "text/html": [
       "<div>\n",
       "<style scoped>\n",
       "    .dataframe tbody tr th:only-of-type {\n",
       "        vertical-align: middle;\n",
       "    }\n",
       "\n",
       "    .dataframe tbody tr th {\n",
       "        vertical-align: top;\n",
       "    }\n",
       "\n",
       "    .dataframe thead th {\n",
       "        text-align: right;\n",
       "    }\n",
       "</style>\n",
       "<table border=\"1\" class=\"dataframe\">\n",
       "  <thead>\n",
       "    <tr style=\"text-align: right;\">\n",
       "      <th></th>\n",
       "      <th>node</th>\n",
       "      <th>node_type</th>\n",
       "    </tr>\n",
       "  </thead>\n",
       "  <tbody>\n",
       "    <tr>\n",
       "      <th>0</th>\n",
       "      <td>MeSH_Tree_Disease:MeSH_Tree_Disease:C23.550.07...</td>\n",
       "      <td>MeSH_Tree_Disease</td>\n",
       "    </tr>\n",
       "    <tr>\n",
       "      <th>1</th>\n",
       "      <td>MeSH_Tree_Disease:MeSH_Tree_Disease:C16.131.74...</td>\n",
       "      <td>MeSH_Tree_Disease</td>\n",
       "    </tr>\n",
       "    <tr>\n",
       "      <th>2</th>\n",
       "      <td>MeSH_Disease:D001660</td>\n",
       "      <td>MeSH_Tree_Disease</td>\n",
       "    </tr>\n",
       "    <tr>\n",
       "      <th>3</th>\n",
       "      <td>MeSH_Tree_Disease:MeSH_Tree_Disease:C12.050.35...</td>\n",
       "      <td>MeSH_Tree_Disease</td>\n",
       "    </tr>\n",
       "    <tr>\n",
       "      <th>4</th>\n",
       "      <td>MeSH_Tree_Disease:C12.950.419.473.585.220</td>\n",
       "      <td>MeSH_Tree_Disease</td>\n",
       "    </tr>\n",
       "    <tr>\n",
       "      <th>...</th>\n",
       "      <td>...</td>\n",
       "      <td>...</td>\n",
       "    </tr>\n",
       "    <tr>\n",
       "      <th>40366</th>\n",
       "      <td>Q9BZ23</td>\n",
       "      <td>Protein</td>\n",
       "    </tr>\n",
       "    <tr>\n",
       "      <th>40367</th>\n",
       "      <td>Q9Y227</td>\n",
       "      <td>Protein</td>\n",
       "    </tr>\n",
       "    <tr>\n",
       "      <th>40368</th>\n",
       "      <td>Q7Z2D5</td>\n",
       "      <td>Protein</td>\n",
       "    </tr>\n",
       "    <tr>\n",
       "      <th>40369</th>\n",
       "      <td>P25940</td>\n",
       "      <td>Protein</td>\n",
       "    </tr>\n",
       "    <tr>\n",
       "      <th>40370</th>\n",
       "      <td>Q5NDL2</td>\n",
       "      <td>Protein</td>\n",
       "    </tr>\n",
       "  </tbody>\n",
       "</table>\n",
       "<p>40371 rows × 2 columns</p>\n",
       "</div>"
      ],
      "text/plain": [
       "                                                    node          node_type\n",
       "0      MeSH_Tree_Disease:MeSH_Tree_Disease:C23.550.07...  MeSH_Tree_Disease\n",
       "1      MeSH_Tree_Disease:MeSH_Tree_Disease:C16.131.74...  MeSH_Tree_Disease\n",
       "2                                   MeSH_Disease:D001660  MeSH_Tree_Disease\n",
       "3      MeSH_Tree_Disease:MeSH_Tree_Disease:C12.050.35...  MeSH_Tree_Disease\n",
       "4              MeSH_Tree_Disease:C12.950.419.473.585.220  MeSH_Tree_Disease\n",
       "...                                                  ...                ...\n",
       "40366                                             Q9BZ23            Protein\n",
       "40367                                             Q9Y227            Protein\n",
       "40368                                             Q7Z2D5            Protein\n",
       "40369                                             P25940            Protein\n",
       "40370                                             Q5NDL2            Protein\n",
       "\n",
       "[40371 rows x 2 columns]"
      ]
     },
     "execution_count": 26,
     "metadata": {},
     "output_type": "execute_result"
    }
   ],
   "source": [
    "nodes = pd.read_csv(\"../input_data/merged_node_list.tsv\", sep = \"\\t\")\n",
    "nodes"
   ]
  },
  {
   "cell_type": "markdown",
   "metadata": {},
   "source": [
    "## Deploy Nodes with Corresponding Metadata"
   ]
  },
  {
   "cell_type": "code",
   "execution_count": 30,
   "metadata": {},
   "outputs": [
    {
     "data": {
      "text/plain": [
       "['Protein', 'Reactome_Pathway', 'MeSH_Tree_Disease', 'CVD']"
      ]
     },
     "execution_count": 30,
     "metadata": {},
     "output_type": "execute_result"
    }
   ],
   "source": [
    "types = list(set(nodes[\"node_type\"].to_list()))\n",
    "types"
   ]
  },
  {
   "cell_type": "code",
   "execution_count": 31,
   "metadata": {},
   "outputs": [],
   "source": [
    "def deploy_protein(tx, name) -> None:\n",
    "    query = \"MERGE (n:Protein{name: $name})\"\n",
    "    tx.run(query, name = name)\n",
    "\n",
    "def deploy_MeSH_Tree_Disease(tx, name) -> None:\n",
    "    query = \"MERGE (n:MeSH_Tree_Disease{name: $name})\"\n",
    "    tx.run(query, name = name)\n",
    "    \n",
    "def deploy_CVD(tx, name) -> None:\n",
    "    query = \"MERGE (n:CVD{name: $name})\"\n",
    "    tx.run(query, name = name)\n",
    "\n",
    "def deploy_Reactome_Pathway(tx, name) -> None:\n",
    "    query = \"MERGE (n:Reactome_Pathway{name: $name})\"\n",
    "    tx.run(query, name = name)"
   ]
  },
  {
   "cell_type": "code",
   "execution_count": 34,
   "metadata": {},
   "outputs": [
    {
     "name": "stderr",
     "output_type": "stream",
     "text": [
      "Deploying Proteins: 100%|██████████| 8853/8853 [04:12<00:00, 35.11it/s]\n",
      "Deploying Reactome_Pathways: 100%|██████████| 508/508 [00:13<00:00, 36.50it/s]\n",
      "Deploying MeSH_Tree_Disease: 100%|██████████| 31002/31002 [14:08<00:00, 36.53it/s]\n",
      "Deploying CVD: 100%|██████████| 8/8 [00:00<00:00, 20.32it/s]"
     ]
    },
    {
     "name": "stdout",
     "output_type": "stream",
     "text": [
      "success\n"
     ]
    },
    {
     "name": "stderr",
     "output_type": "stream",
     "text": [
      "\n"
     ]
    }
   ],
   "source": [
    "#runtime ~ 30 min\n",
    "for i in types:\n",
    "\n",
    "    df = nodes[nodes[\"node_type\"] == i]\n",
    "\n",
    "    if i == \"Protein\":\n",
    "        for name in tqdm(df[\"node\"].to_list(), desc = \"Deploying Proteins\"):\n",
    "            info = driver.session().write_transaction(deploy_protein, name)\n",
    "\n",
    "    elif i == \"Reactome_Pathway\":\n",
    "        for name in tqdm(df[\"node\"].to_list(), desc = \"Deploying Reactome_Pathways\"):\n",
    "            info = driver.session().write_transaction(deploy_Reactome_Pathway, name)\n",
    "\n",
    "    elif i == \"MeSH_Tree_Disease\":\n",
    "        for name in tqdm(df[\"node\"].to_list(), desc = \"Deploying MeSH_Tree_Disease\"):\n",
    "            info = driver.session().write_transaction(deploy_MeSH_Tree_Disease, name)\n",
    "\n",
    "    elif i == \"CVD\":\n",
    "        for name in tqdm(df[\"node\"].to_list(), desc = \"Deploying CVD\"):\n",
    "            info = driver.session().write_transaction(deploy_CVD, name)\n",
    "\n",
    "print(\"success\")"
   ]
  },
  {
   "cell_type": "markdown",
   "metadata": {},
   "source": [
    "## Deploying Relationships"
   ]
  },
  {
   "cell_type": "code",
   "execution_count": 47,
   "metadata": {},
   "outputs": [
    {
     "data": {
      "text/html": [
       "<div>\n",
       "<style scoped>\n",
       "    .dataframe tbody tr th:only-of-type {\n",
       "        vertical-align: middle;\n",
       "    }\n",
       "\n",
       "    .dataframe tbody tr th {\n",
       "        vertical-align: top;\n",
       "    }\n",
       "\n",
       "    .dataframe thead th {\n",
       "        text-align: right;\n",
       "    }\n",
       "</style>\n",
       "<table border=\"1\" class=\"dataframe\">\n",
       "  <thead>\n",
       "    <tr style=\"text-align: right;\">\n",
       "      <th></th>\n",
       "      <th>head</th>\n",
       "      <th>relation</th>\n",
       "      <th>tail</th>\n",
       "      <th>weight</th>\n",
       "    </tr>\n",
       "  </thead>\n",
       "  <tbody>\n",
       "    <tr>\n",
       "      <th>12952</th>\n",
       "      <td>MeSH_Tree_Disease</td>\n",
       "      <td>MeSH_is</td>\n",
       "      <td>MeSH_Disease:D007239</td>\n",
       "      <td>1.0</td>\n",
       "    </tr>\n",
       "    <tr>\n",
       "      <th>12953</th>\n",
       "      <td>MeSH_Tree_Disease</td>\n",
       "      <td>MeSH_is</td>\n",
       "      <td>MeSH_Disease:D000785</td>\n",
       "      <td>1.0</td>\n",
       "    </tr>\n",
       "    <tr>\n",
       "      <th>12954</th>\n",
       "      <td>MeSH_Tree_Disease</td>\n",
       "      <td>MeSH_is</td>\n",
       "      <td>MeSH_Disease:D001170</td>\n",
       "      <td>1.0</td>\n",
       "    </tr>\n",
       "    <tr>\n",
       "      <th>12955</th>\n",
       "      <td>MeSH_Tree_Disease</td>\n",
       "      <td>MeSH_is</td>\n",
       "      <td>MeSH_Disease:D016918</td>\n",
       "      <td>1.0</td>\n",
       "    </tr>\n",
       "    <tr>\n",
       "      <th>12956</th>\n",
       "      <td>MeSH_Tree_Disease</td>\n",
       "      <td>MeSH_is</td>\n",
       "      <td>MeSH_Disease:D058345</td>\n",
       "      <td>1.0</td>\n",
       "    </tr>\n",
       "    <tr>\n",
       "      <th>...</th>\n",
       "      <td>...</td>\n",
       "      <td>...</td>\n",
       "      <td>...</td>\n",
       "      <td>...</td>\n",
       "    </tr>\n",
       "    <tr>\n",
       "      <th>25923</th>\n",
       "      <td>MeSH_Tree_Disease</td>\n",
       "      <td>MeSH_is</td>\n",
       "      <td>MeSH_Disease:D000067073</td>\n",
       "      <td>1.0</td>\n",
       "    </tr>\n",
       "    <tr>\n",
       "      <th>25924</th>\n",
       "      <td>MeSH_Tree_Disease</td>\n",
       "      <td>MeSH_is</td>\n",
       "      <td>MeSH_Disease:D000080037</td>\n",
       "      <td>1.0</td>\n",
       "    </tr>\n",
       "    <tr>\n",
       "      <th>25925</th>\n",
       "      <td>MeSH_Tree_Disease</td>\n",
       "      <td>MeSH_is</td>\n",
       "      <td>MeSH_Disease:D000082002</td>\n",
       "      <td>1.0</td>\n",
       "    </tr>\n",
       "    <tr>\n",
       "      <th>25926</th>\n",
       "      <td>MeSH_Tree_Disease</td>\n",
       "      <td>MeSH_is</td>\n",
       "      <td>MeSH_Disease:D013313</td>\n",
       "      <td>1.0</td>\n",
       "    </tr>\n",
       "    <tr>\n",
       "      <th>25927</th>\n",
       "      <td>MeSH_Tree_Disease</td>\n",
       "      <td>MeSH_is</td>\n",
       "      <td>MeSH_Disease:D040701</td>\n",
       "      <td>1.0</td>\n",
       "    </tr>\n",
       "  </tbody>\n",
       "</table>\n",
       "<p>12976 rows × 4 columns</p>\n",
       "</div>"
      ],
      "text/plain": [
       "                    head relation                     tail  weight\n",
       "12952  MeSH_Tree_Disease  MeSH_is     MeSH_Disease:D007239     1.0\n",
       "12953  MeSH_Tree_Disease  MeSH_is     MeSH_Disease:D000785     1.0\n",
       "12954  MeSH_Tree_Disease  MeSH_is     MeSH_Disease:D001170     1.0\n",
       "12955  MeSH_Tree_Disease  MeSH_is     MeSH_Disease:D016918     1.0\n",
       "12956  MeSH_Tree_Disease  MeSH_is     MeSH_Disease:D058345     1.0\n",
       "...                  ...      ...                      ...     ...\n",
       "25923  MeSH_Tree_Disease  MeSH_is  MeSH_Disease:D000067073     1.0\n",
       "25924  MeSH_Tree_Disease  MeSH_is  MeSH_Disease:D000080037     1.0\n",
       "25925  MeSH_Tree_Disease  MeSH_is  MeSH_Disease:D000082002     1.0\n",
       "25926  MeSH_Tree_Disease  MeSH_is     MeSH_Disease:D013313     1.0\n",
       "25927  MeSH_Tree_Disease  MeSH_is     MeSH_Disease:D040701     1.0\n",
       "\n",
       "[12976 rows x 4 columns]"
      ]
     },
     "execution_count": 47,
     "metadata": {},
     "output_type": "execute_result"
    }
   ],
   "source": [
    "kg_edges[kg_edges[\"relation\"] == \"MeSH_is\"]"
   ]
  },
  {
   "cell_type": "code",
   "execution_count": 37,
   "metadata": {},
   "outputs": [
    {
     "data": {
      "text/plain": [
       "['MeSH_is',\n",
       " 'binds_to',\n",
       " 'MeSH_hierarchy',\n",
       " 'CaseOLAP_score',\n",
       " 'participates_in_pathway',\n",
       " 'predicted_association',\n",
       " 'MeSH_CVD']"
      ]
     },
     "execution_count": 37,
     "metadata": {},
     "output_type": "execute_result"
    }
   ],
   "source": [
    "edge_types = list(set(kg_edges[\"relation\"]))\n",
    "edge_types"
   ]
  },
  {
   "cell_type": "code",
   "execution_count": null,
   "metadata": {},
   "outputs": [],
   "source": [
    "def create_MeSH_hierarchy(tx, src, rel, dest, weight):\n",
    "    query = '''\n",
    "    MATCH (d:Deploying MeSH_Tree_Disease{name:$src})\n",
    "    MATCH (p:Deploying MeSH_Tree_Disease{name:$dest})\n",
    "    MERGE (d)-[:MeSH_hierarchy {WEIGHT:$weight}]->(p)\n",
    "    '''\n",
    "    tx.run(query, src = src, rel = rel, dest = dest, weight = weight)\n",
    "\n",
    "def create_MeSH_is(tx, src, rel, dest, weight):\n",
    "    query = '''\n",
    "    MATCH (d:Deploying MeSH_Tree_Disease{name:$src})\n",
    "    MATCH (p:Deploying MeSH_Tree_Disease{name:$dest})\n",
    "    MERGE (d)-[:MeSH_hierarchy {WEIGHT:$weight}]->(p)\n",
    "    '''\n",
    "    tx.run(query, src = src, rel = rel, dest = dest, weight = weight)\n",
    "    "
   ]
  }
 ],
 "metadata": {
  "kernelspec": {
   "display_name": "Python 3.10.4 ('similarity_network_fusion')",
   "language": "python",
   "name": "python3"
  },
  "language_info": {
   "codemirror_mode": {
    "name": "ipython",
    "version": 3
   },
   "file_extension": ".py",
   "mimetype": "text/x-python",
   "name": "python",
   "nbconvert_exporter": "python",
   "pygments_lexer": "ipython3",
   "version": "3.10.4"
  },
  "orig_nbformat": 4,
  "vscode": {
   "interpreter": {
    "hash": "ffc96996541234a8072ddffdad3f8173811508062fa3c0bfb86f4c7b0954c363"
   }
  }
 },
 "nbformat": 4,
 "nbformat_minor": 2
}
